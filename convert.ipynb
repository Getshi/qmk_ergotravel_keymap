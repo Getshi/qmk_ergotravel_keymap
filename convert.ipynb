{
 "metadata": {
  "language_info": {
   "codemirror_mode": {
    "name": "ipython",
    "version": 3
   },
   "file_extension": ".py",
   "mimetype": "text/x-python",
   "name": "python",
   "nbconvert_exporter": "python",
   "pygments_lexer": "ipython3",
   "version": "3.7.1"
  },
  "orig_nbformat": 2,
  "kernelspec": {
   "name": "python3",
   "display_name": "Python 3.7.1 64-bit ('base': conda)"
  },
  "interpreter": {
   "hash": "e3bc7d3962532b9c730a463d08ceb6d0dd64d19a3e52a045e6990c62d377e83f"
  }
 },
 "nbformat": 4,
 "nbformat_minor": 2,
 "cells": [
  {
   "cell_type": "code",
   "execution_count": 3,
   "source": [
    "import json\r\n",
    "# D = json.loads(J) # NOTE, documentation string might throw exeception\r\n",
    "def D2C(J):\r\n",
    "    D = json.loads(J)\r\n",
    "    layout = D[\"layout\"]\r\n",
    "    layers = D[\"layers\"]\r\n",
    "    s = \"const const uint16_t PROGMEM keymaps[][MATRIX_ROWS][MATRIX_COLS] = {\"\r\n",
    "    for i in range(len(layers)):\r\n",
    "        s += \"\\n  [%d] = %s(\" % (i, layout)\r\n",
    "        s += \", \".join(layers[i])\r\n",
    "        s += \")\"\r\n",
    "        if i < len(layers)-1:\r\n",
    "            s += \",\"\r\n",
    "    s += \"\\n};\"\r\n",
    "    return s\r\n",
    "\r\n",
    "import re\r\n",
    "def C2D(C):\r\n",
    "    matches = re.findall(r\"\\[(\\d+)\\] = ([^\\(\\)]+)\\((.*)\\)\",C)\r\n",
    "    D = {}\r\n",
    "    D[\"version\"] = 1\r\n",
    "    D[\"notes\"] = \"\"\r\n",
    "    D[\"keyboard\"] = \"ergodash/rev1\"\r\n",
    "    D[\"keymap\"] = \"ergodash_rev1_layout_4key_2u_inner_mine\"\r\n",
    "    D[\"layout\"] = \"LAYOUT_4key_2u_inner\"\r\n",
    "    D[\"layers\"] = []\r\n",
    "    for match in matches:\r\n",
    "        D[\"layers\"].append( [kc.strip() for kc in re.split(r\",(?![^\\(]*\\))\", match[2])] ) # seems to work\r\n",
    "        # D[\"layers\"].append([kc.strip() for kc in match[2].split(\", \")])\r\n",
    "    D[\"author\"] = \"\"\r\n",
    "    return json.dumps(D)\r\n"
   ],
   "outputs": [],
   "metadata": {}
  },
  {
   "cell_type": "code",
   "execution_count": 32,
   "source": [
    "print(D2C(\"\"\"{\"version\":1,\"notes\":\"\",\"documentation\":\"...\",\"keyboard\":\"ergodash/rev1\",\"keymap\":\"ergodash_rev1_layout_4key_2u_inner_mine\",\"layout\":\"LAYOUT_4key_2u_inner\",\"layers\":[[\"KC_ESC\",\"...\",\"KC_RGHT\"],[\"KC_TRNS\",\"...\",\"KC_NO\"]],\"author\":\"\"}\r\n",
    "\"\"\"))"
   ],
   "outputs": [
    {
     "output_type": "stream",
     "name": "stdout",
     "text": [
      "const const uint16_t PROGMEM keymaps[][MATRIX_ROWS][MATRIX_COLS] = {\n",
      "  [0] = LAYOUT_4key_2u_inner(KC_ESC, ..., KC_RGHT),\n",
      "  [1] = LAYOUT_4key_2u_inner(KC_TRNS, ..., KC_NO)\n",
      "};\n"
     ]
    }
   ],
   "metadata": {}
  },
  {
   "cell_type": "code",
   "execution_count": 28,
   "source": [
    "print(C2D(\"\"\"const uint16_t PROGMEM keymaps[][MATRIX_ROWS][MATRIX_COLS] = {\r\n",
    "  [0] = LAYOUT_4key_2u_inner(KC_ESC, ..., KC_RGHT),\r\n",
    "  [1] = LAYOUT_4key_2u_inner(KC_TRNS, ..., KC_TRNS),\"\"\"))"
   ],
   "outputs": [
    {
     "output_type": "stream",
     "name": "stdout",
     "text": [
      "{\"version\": 1, \"notes\": \"\", \"keyboard\": \"ergodash/rev1\", \"keymap\": \"ergodash_rev1_layout_4key_2u_inner_mine\", \"layout\": \"LAYOUT_4key_2u_inner\", \"layers\": [[\"KC_ESC\", \"...\", \"KC_RGHT\"], [\"KC_TRNS\", \"...\", \"KC_TRNS\"]], \"author\": \"\"}\n"
     ]
    }
   ],
   "metadata": {}
  },
  {
   "cell_type": "code",
   "execution_count": 34,
   "source": [
    "print(C2D(\"\"\"const uint16_t PROGMEM keymaps[][MATRIX_ROWS][MATRIX_COLS] = {\r\n",
    "  [0] = LAYOUT_4key_2u_inner(KC_ESC, KC_1, KC_2, KC_3, KC_4, KC_5, KC_PSCR, KC_BSPC, KC_6, KC_7, KC_8, KC_9, KC_0, KC_DEL, KC_GRV, KC_Q, KC_W, KC_E, KC_R, KC_T, KC_MINS, KC_EQL, KC_Y, KC_U, KC_I, KC_O, KC_P, KC_BSLS, KC_TAB, KC_A, KC_S, KC_D, KC_F, KC_G, KC_LBRC, KC_RBRC, KC_H, KC_J, KC_K, KC_L, KC_SCLN, KC_QUOT, KC_LSFT, KC_Z, KC_X, KC_C, KC_V, KC_B, KC_LT, KC_UALT, KC_N, KC_M, KC_COMM, KC_DOT, KC_SLSH, KC_RSFT, KC_LCTL, KC_LGUI, KC_LALT, KC_LALT, MO(1), LT(2,KC_SPC), KC_SPC, MO(1), LT(3,KC_ENT), MO(5), KC_LEFT, KC_DOWN, KC_UP, KC_RGHT),\r\n",
    "  [1] = LAYOUT_4key_2u_inner(KC_TRNS, KC_F1, KC_F2, KC_F3, KC_F4, KC_F5, KC_NO, KC_TRNS, KC_F6, KC_F7, KC_F8, KC_F9, KC_F10, KC_F11, KC_NO, KC_EXLM, KC_AT, KC_HASH, KC_DLR, KC_PERC, KC_NO, KC_NO, KC_CIRC, KC_AMPR, KC_ASTR, KC_LPRN, KC_RPRN, KC_F12, KC_TRNS, KC_1, KC_2, KC_3, KC_4, KC_5, KC_NO, KC_NO, KC_6, KC_7, KC_8, KC_9, KC_0, KC_NO, KC_TRNS, KC_Y, KC_NO, KC_NO, KC_NO, KC_NO, KC_NO, KC_RALT, KC_NO, KC_NO, KC_NO, KC_NO, KC_NO, KC_TRNS, KC_TRNS, KC_TRNS, KC_TRNS, KC_TRNS, KC_TRNS, KC_ENT, MO(4), KC_TRNS, KC_TRNS, KC_TRNS, KC_TRNS, KC_TRNS, KC_TRNS, KC_TRNS),\r\n",
    "  [2] = LAYOUT_4key_2u_inner(KC_TRNS, KC_NO, KC_NO, KC_NO, KC_NO, KC_NO, KC_NO, KC_BSPC, KC_NO, KC_NO, KC_NO, KC_NO, KC_NO, KC_DEL, KC_TILD, KC_EXLM, KC_CIRC, KC_AMPR, KC_LBRC, KC_UNDS, KC_NO, KC_NO, KC_NO, KC_RBRC, KC_BSLS, KC_NO, KC_NO, KC_NO, KC_TRNS, KC_MINS, KC_PLUS, KC_EQL, KC_LPRN, KC_LT, KC_SPC, KC_NO, KC_GT, KC_RPRN, KC_COLN, KC_QUES, KC_DQUO, KC_QUOT, KC_TRNS, KC_SLSH, KC_ASTR, KC_PIPE, KC_LCBR, KC_PERC, KC_NO, KC_NO, KC_HASH, KC_RCBR, KC_AT, KC_DLR, KC_NO, KC_TRNS, KC_TRNS, KC_TRNS, KC_TRNS, KC_TRNS, KC_NO, KC_TRNS, KC_NO, KC_NO, KC_TRNS, KC_NO, KC_TRNS, KC_TRNS, KC_TRNS, KC_TRNS),\r\n",
    "  [3] = LAYOUT_4key_2u_inner(KC_TRNS, KC_NO, KC_NO, KC_NO, KC_NO, KC_NO, KC_NO, KC_BSPC, KC_NO, KC_NO, KC_NO, KC_NO, KC_NO, KC_DEL, KC_NO, KC_NO, KC_NO, KC_NO, KC_NO, KC_NO, KC_NO, KC_NO, KC_PGUP, KC_HOME, KC_UP, KC_END, KC_INS, KC_NO, KC_TRNS, KC_NO, KC_NO, KC_NO, KC_NO, KC_NO, KC_NO, KC_ENT, KC_PGDN, KC_LEFT, KC_DOWN, KC_RGHT, KC_DEL, KC_NO, KC_TRNS, KC_NO, KC_NO, KC_NO, KC_NO, KC_NO, KC_NO, KC_NO, KC_NO, KC_NO, KC_NO, KC_WH_U, KC_NO, KC_NO, KC_TRNS, KC_TRNS, KC_TRNS, KC_TRNS, KC_TRNS, KC_TRNS, KC_TRNS, KC_TRNS, KC_TRNS, KC_TRNS, KC_WH_L, KC_WH_D, KC_WH_R, KC_NO),\r\n",
    "  [4] = LAYOUT_4key_2u_inner(KC_NO, KC_NO, KC_NO, KC_NO, KC_NO, KC_NO, KC_NO, KC_NO, KC_NO, KC_NO, KC_NO, KC_NO, KC_NO, KC_NO, KC_NO, RESET, KC_NO, KC_NO, KC_NO, KC_NO, KC_NO, KC_NO, KC_NO, UNICODE_MODE_FORWARD, KC_NO, KC_NO, KC_NO, KC_NO, KC_NO, KC_NO, KC_NO, KC_NO, KC_NO, KC_NO, KC_NO, KC_NO, KC_NO, KC_NO, KC_NO, KC_NO, KC_NO, KC_NO, KC_NO, KC_NO, KC_NO, KC_NO, KC_NO, KC_NO, KC_NO, KC_NO, KC_NO, KC_NO, KC_NO, KC_NO, KC_NO, KC_NO, KC_NO, KC_NO, KC_NO, KC_NO, KC_TRNS, KC_TRNS, KC_TRNS, KC_TRNS, KC_TRNS, KC_TRNS, KC_NO, KC_NO, KC_NO, KC_NO),\r\n",
    "  [5] = LAYOUT_4key_2u_inner(KC_NO, KC_F1, KC_F2, KC_F3, KC_F4, KC_F5, KC_NO, KC_BSPC, KC_F6, KC_F7, KC_F8, KC_F9, KC_F10, KC_DEL, KC_NO, KC_NO, KC_NO, KC_NO, KC_NO, KC_NO, KC_NO, KC_NO, KC_NLCK, KC_P7, KC_P8, KC_P9, KC_PMNS, KC_F12, KC_TRNS, KC_NO, KC_NO, KC_NO, KC_NO, KC_NO, KC_NO, KC_NO, KC_NO, KC_P4, KC_P5, KC_P6, KC_PPLS, KC_NO, KC_TRNS, KC_NO, KC_NO, KC_NO, KC_NO, KC_NO, KC_NO, KC_TRNS, KC_NO, KC_P1, KC_P2, KC_P3, KC_NO, KC_NO, KC_TRNS, KC_TRNS, KC_TRNS, KC_TRNS, KC_TRNS, KC_TRNS, MO(4), MO(4), KC_TRNS, KC_TRNS, KC_P0, KC_PDOT, KC_COMM, KC_NO)\r\n",
    "};\"\"\"))"
   ],
   "outputs": [
    {
     "output_type": "stream",
     "name": "stdout",
     "text": [
      "{\"version\": 1, \"notes\": \"\", \"keyboard\": \"ergodash/rev1\", \"keymap\": \"ergodash_rev1_layout_4key_2u_inner_mine\", \"layout\": \"LAYOUT_4key_2u_inner\", \"layers\": [[\"KC_ESC\", \"KC_1\", \"KC_2\", \"KC_3\", \"KC_4\", \"KC_5\", \"KC_PSCR\", \"KC_BSPC\", \"KC_6\", \"KC_7\", \"KC_8\", \"KC_9\", \"KC_0\", \"KC_DEL\", \"KC_GRV\", \"KC_Q\", \"KC_W\", \"KC_E\", \"KC_R\", \"KC_T\", \"KC_MINS\", \"KC_EQL\", \"KC_Y\", \"KC_U\", \"KC_I\", \"KC_O\", \"KC_P\", \"KC_BSLS\", \"KC_TAB\", \"KC_A\", \"KC_S\", \"KC_D\", \"KC_F\", \"KC_G\", \"KC_LBRC\", \"KC_RBRC\", \"KC_H\", \"KC_J\", \"KC_K\", \"KC_L\", \"KC_SCLN\", \"KC_QUOT\", \"KC_LSFT\", \"KC_Z\", \"KC_X\", \"KC_C\", \"KC_V\", \"KC_B\", \"KC_LT\", \"KC_UALT\", \"KC_N\", \"KC_M\", \"KC_COMM\", \"KC_DOT\", \"KC_SLSH\", \"KC_RSFT\", \"KC_LCTL\", \"KC_LGUI\", \"KC_LALT\", \"KC_LALT\", \"MO(1)\", \"LT(2,KC_SPC)\", \"KC_SPC\", \"MO(1)\", \"LT(3,KC_ENT)\", \"MO(5)\", \"KC_LEFT\", \"KC_DOWN\", \"KC_UP\", \"KC_RGHT\"], [\"KC_TRNS\", \"KC_F1\", \"KC_F2\", \"KC_F3\", \"KC_F4\", \"KC_F5\", \"KC_NO\", \"KC_TRNS\", \"KC_F6\", \"KC_F7\", \"KC_F8\", \"KC_F9\", \"KC_F10\", \"KC_F11\", \"KC_NO\", \"KC_EXLM\", \"KC_AT\", \"KC_HASH\", \"KC_DLR\", \"KC_PERC\", \"KC_NO\", \"KC_NO\", \"KC_CIRC\", \"KC_AMPR\", \"KC_ASTR\", \"KC_LPRN\", \"KC_RPRN\", \"KC_F12\", \"KC_TRNS\", \"KC_1\", \"KC_2\", \"KC_3\", \"KC_4\", \"KC_5\", \"KC_NO\", \"KC_NO\", \"KC_6\", \"KC_7\", \"KC_8\", \"KC_9\", \"KC_0\", \"KC_NO\", \"KC_TRNS\", \"KC_Y\", \"KC_NO\", \"KC_NO\", \"KC_NO\", \"KC_NO\", \"KC_NO\", \"KC_RALT\", \"KC_NO\", \"KC_NO\", \"KC_NO\", \"KC_NO\", \"KC_NO\", \"KC_TRNS\", \"KC_TRNS\", \"KC_TRNS\", \"KC_TRNS\", \"KC_TRNS\", \"KC_TRNS\", \"KC_ENT\", \"MO(4)\", \"KC_TRNS\", \"KC_TRNS\", \"KC_TRNS\", \"KC_TRNS\", \"KC_TRNS\", \"KC_TRNS\", \"KC_TRNS\"], [\"KC_TRNS\", \"KC_NO\", \"KC_NO\", \"KC_NO\", \"KC_NO\", \"KC_NO\", \"KC_NO\", \"KC_BSPC\", \"KC_NO\", \"KC_NO\", \"KC_NO\", \"KC_NO\", \"KC_NO\", \"KC_DEL\", \"KC_TILD\", \"KC_EXLM\", \"KC_CIRC\", \"KC_AMPR\", \"KC_LBRC\", \"KC_UNDS\", \"KC_NO\", \"KC_NO\", \"KC_NO\", \"KC_RBRC\", \"KC_BSLS\", \"KC_NO\", \"KC_NO\", \"KC_NO\", \"KC_TRNS\", \"KC_MINS\", \"KC_PLUS\", \"KC_EQL\", \"KC_LPRN\", \"KC_LT\", \"KC_SPC\", \"KC_NO\", \"KC_GT\", \"KC_RPRN\", \"KC_COLN\", \"KC_QUES\", \"KC_DQUO\", \"KC_QUOT\", \"KC_TRNS\", \"KC_SLSH\", \"KC_ASTR\", \"KC_PIPE\", \"KC_LCBR\", \"KC_PERC\", \"KC_NO\", \"KC_NO\", \"KC_HASH\", \"KC_RCBR\", \"KC_AT\", \"KC_DLR\", \"KC_NO\", \"KC_TRNS\", \"KC_TRNS\", \"KC_TRNS\", \"KC_TRNS\", \"KC_TRNS\", \"KC_NO\", \"KC_TRNS\", \"KC_NO\", \"KC_NO\", \"KC_TRNS\", \"KC_NO\", \"KC_TRNS\", \"KC_TRNS\", \"KC_TRNS\", \"KC_TRNS\"], [\"KC_TRNS\", \"KC_NO\", \"KC_NO\", \"KC_NO\", \"KC_NO\", \"KC_NO\", \"KC_NO\", \"KC_BSPC\", \"KC_NO\", \"KC_NO\", \"KC_NO\", \"KC_NO\", \"KC_NO\", \"KC_DEL\", \"KC_NO\", \"KC_NO\", \"KC_NO\", \"KC_NO\", \"KC_NO\", \"KC_NO\", \"KC_NO\", \"KC_NO\", \"KC_PGUP\", \"KC_HOME\", \"KC_UP\", \"KC_END\", \"KC_INS\", \"KC_NO\", \"KC_TRNS\", \"KC_NO\", \"KC_NO\", \"KC_NO\", \"KC_NO\", \"KC_NO\", \"KC_NO\", \"KC_ENT\", \"KC_PGDN\", \"KC_LEFT\", \"KC_DOWN\", \"KC_RGHT\", \"KC_DEL\", \"KC_NO\", \"KC_TRNS\", \"KC_NO\", \"KC_NO\", \"KC_NO\", \"KC_NO\", \"KC_NO\", \"KC_NO\", \"KC_NO\", \"KC_NO\", \"KC_NO\", \"KC_NO\", \"KC_WH_U\", \"KC_NO\", \"KC_NO\", \"KC_TRNS\", \"KC_TRNS\", \"KC_TRNS\", \"KC_TRNS\", \"KC_TRNS\", \"KC_TRNS\", \"KC_TRNS\", \"KC_TRNS\", \"KC_TRNS\", \"KC_TRNS\", \"KC_WH_L\", \"KC_WH_D\", \"KC_WH_R\", \"KC_NO\"], [\"KC_NO\", \"KC_NO\", \"KC_NO\", \"KC_NO\", \"KC_NO\", \"KC_NO\", \"KC_NO\", \"KC_NO\", \"KC_NO\", \"KC_NO\", \"KC_NO\", \"KC_NO\", \"KC_NO\", \"KC_NO\", \"KC_NO\", \"RESET\", \"KC_NO\", \"KC_NO\", \"KC_NO\", \"KC_NO\", \"KC_NO\", \"KC_NO\", \"KC_NO\", \"UNICODE_MODE_FORWARD\", \"KC_NO\", \"KC_NO\", \"KC_NO\", \"KC_NO\", \"KC_NO\", \"KC_NO\", \"KC_NO\", \"KC_NO\", \"KC_NO\", \"KC_NO\", \"KC_NO\", \"KC_NO\", \"KC_NO\", \"KC_NO\", \"KC_NO\", \"KC_NO\", \"KC_NO\", \"KC_NO\", \"KC_NO\", \"KC_NO\", \"KC_NO\", \"KC_NO\", \"KC_NO\", \"KC_NO\", \"KC_NO\", \"KC_NO\", \"KC_NO\", \"KC_NO\", \"KC_NO\", \"KC_NO\", \"KC_NO\", \"KC_NO\", \"KC_NO\", \"KC_NO\", \"KC_NO\", \"KC_NO\", \"KC_TRNS\", \"KC_TRNS\", \"KC_TRNS\", \"KC_TRNS\", \"KC_TRNS\", \"KC_TRNS\", \"KC_NO\", \"KC_NO\", \"KC_NO\", \"KC_NO\"], [\"KC_NO\", \"KC_F1\", \"KC_F2\", \"KC_F3\", \"KC_F4\", \"KC_F5\", \"KC_NO\", \"KC_BSPC\", \"KC_F6\", \"KC_F7\", \"KC_F8\", \"KC_F9\", \"KC_F10\", \"KC_DEL\", \"KC_NO\", \"KC_NO\", \"KC_NO\", \"KC_NO\", \"KC_NO\", \"KC_NO\", \"KC_NO\", \"KC_NO\", \"KC_NLCK\", \"KC_P7\", \"KC_P8\", \"KC_P9\", \"KC_PMNS\", \"KC_F12\", \"KC_TRNS\", \"KC_NO\", \"KC_NO\", \"KC_NO\", \"KC_NO\", \"KC_NO\", \"KC_NO\", \"KC_NO\", \"KC_NO\", \"KC_P4\", \"KC_P5\", \"KC_P6\", \"KC_PPLS\", \"KC_NO\", \"KC_TRNS\", \"KC_NO\", \"KC_NO\", \"KC_NO\", \"KC_NO\", \"KC_NO\", \"KC_NO\", \"KC_TRNS\", \"KC_NO\", \"KC_P1\", \"KC_P2\", \"KC_P3\", \"KC_NO\", \"KC_NO\", \"KC_TRNS\", \"KC_TRNS\", \"KC_TRNS\", \"KC_TRNS\", \"KC_TRNS\", \"KC_TRNS\", \"MO(4)\", \"MO(4)\", \"KC_TRNS\", \"KC_TRNS\", \"KC_P0\", \"KC_PDOT\", \"KC_COMM\", \"KC_NO\"]], \"author\": \"\"}\n"
     ]
    }
   ],
   "metadata": {}
  },
  {
   "cell_type": "code",
   "execution_count": null,
   "source": [],
   "outputs": [],
   "metadata": {}
  }
 ]
}